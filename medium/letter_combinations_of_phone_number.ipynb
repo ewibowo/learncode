{
 "cells": [
  {
   "cell_type": "markdown",
   "id": "698c80d4",
   "metadata": {},
   "source": [
    "Given a string containing digits from 2-9 inclusive, return all possible letter combinations that the number could represent. Return the answer in any order.\n",
    "\n",
    "A mapping of digits to letters (just like on the telephone buttons) is given below. Note that 1 does not map to any letters."
   ]
  },
  {
   "cell_type": "code",
   "execution_count": 1,
   "id": "6b1274bb",
   "metadata": {},
   "outputs": [
    {
     "name": "stdout",
     "output_type": "stream",
     "text": [
      "['a', 'b', 'c']\n",
      "['d', 'e', 'f']\n",
      "['ad', 'ae', 'af', 'bd', 'be', 'bf', 'cd', 'ce', 'cf']\n",
      "['adg', 'adh', 'adi', 'aeg', 'aeh', 'aei', 'afg', 'afh', 'afi', 'bdg', 'bdh', 'bdi', 'beg', 'beh', 'bei', 'bfg', 'bfh', 'bfi', 'cdg', 'cdh', 'cdi', 'ceg', 'ceh', 'cei', 'cfg', 'cfh', 'cfi']\n"
     ]
    }
   ],
   "source": [
    "def letterCombinations(digits: str) -> list[str]:\n",
    "    if not digits:\n",
    "        return []\n",
    "    \n",
    "    # Mapping of digits to letters (like phone keypad)\n",
    "    digit_to_letters = {\n",
    "        \"2\": \"abc\",\n",
    "        \"3\": \"def\",\n",
    "        \"4\": \"ghi\",\n",
    "        \"5\": \"jkl\",\n",
    "        \"6\": \"mno\",\n",
    "        \"7\": \"pqrs\",\n",
    "        \"8\": \"tuv\",\n",
    "        \"9\": \"wxyz\"\n",
    "    }\n",
    "    \n",
    "    result = []\n",
    "    \n",
    "    def backtrack(index: int, current: str):\n",
    "        # Base case: if we've processed all digits\n",
    "        if index == len(digits):\n",
    "            result.append(current)\n",
    "            return\n",
    "        \n",
    "        # Get letters for current digit\n",
    "        letters = digit_to_letters[digits[index]]\n",
    "        \n",
    "        # Try each letter\n",
    "        for letter in letters:\n",
    "            backtrack(index + 1, current + letter)\n",
    "    \n",
    "    backtrack(0, \"\")\n",
    "    return result\n",
    "\n",
    "\n",
    "# Test cases\n",
    "print(letterCombinations(\"2\"))    # [\"a\", \"b\", \"c\"]\n",
    "print(letterCombinations(\"3\"))    # [\"d\", \"e\", \"f\"]\n",
    "print(letterCombinations(\"23\"))   # [\"ad\", \"ae\", \"af\", \"bd\", \"be\", \"bf\", \"cd\", \"ce\", \"cf\"]\n",
    "print(letterCombinations(\"234\"))  # [\"adg\", \"adh\", \"adi\", \"aeg\", ...]\n"
   ]
  }
 ],
 "metadata": {
  "kernelspec": {
   "display_name": "Python 3",
   "language": "python",
   "name": "python3"
  },
  "language_info": {
   "codemirror_mode": {
    "name": "ipython",
    "version": 3
   },
   "file_extension": ".py",
   "mimetype": "text/x-python",
   "name": "python",
   "nbconvert_exporter": "python",
   "pygments_lexer": "ipython3",
   "version": "3.12.1"
  }
 },
 "nbformat": 4,
 "nbformat_minor": 5
}
