{
 "cells": [
  {
   "cell_type": "markdown",
   "id": "35daedeb",
   "metadata": {},
   "source": [
    "Given n pairs of parentheses, write a function to generate all combinations of well-formed parentheses.\n",
    "\n",
    " \n",
    "\n",
    "Example 1:\n",
    "```\n",
    "Input: n = 3\n",
    "Output: [\"((()))\",\"(()())\",\"(())()\",\"()(())\",\"()()()\"]\n",
    "```\n",
    "Example 2:\n",
    "```\n",
    "Input: n = 1\n",
    "Output: [\"()\"]\n",
    "``` \n",
    "\n",
    "Constraints:\n",
    "```\n",
    "1 <= n <= 8\n",
    "```"
   ]
  },
  {
   "cell_type": "code",
   "execution_count": 6,
   "id": "103ea50c",
   "metadata": {},
   "outputs": [
    {
     "data": {
      "text/plain": [
       "['(())', '()()']"
      ]
     },
     "execution_count": 6,
     "metadata": {},
     "output_type": "execute_result"
    }
   ],
   "source": [
    "def generateParenthesis(n):\n",
    "    result = []\n",
    "    \n",
    "    def backtrack(current, open_count, close_count):\n",
    "        # Base case: we've used all n pairs\n",
    "        if len(current) == 2 * n:\n",
    "            result.append(current)\n",
    "            return\n",
    "        \n",
    "        # Add opening parenthesis if we haven't used all n\n",
    "        if open_count < n:\n",
    "            backtrack(current + '(', open_count + 1, close_count)\n",
    "        \n",
    "        # Add closing parenthesis if it won't make string invalid\n",
    "        if close_count < open_count:\n",
    "            backtrack(current + ')', open_count, close_count + 1)\n",
    "    \n",
    "    backtrack('', 0, 0)\n",
    "    return result\n",
    "\n",
    "\n",
    "generateParenthesis(2)"
   ]
  },
  {
   "cell_type": "markdown",
   "id": "a3a82f07",
   "metadata": {},
   "source": [
    "## How It Works\n",
    "\n",
    "For `n = 2`:\n",
    "- Start with empty string\n",
    "- We can only add `(` initially\n",
    "- At each step, we decide whether to add `(` or `)`\n",
    "- Only add `)` when we have more `(` than `)` so far\n",
    "- Stop when we've used 2 opening and 2 closing parentheses\n",
    "\n",
    "**Example trace for n=2:**\n",
    "```\n",
    "\"\"\n",
    "├─ \"(\" (open=1, close=0)\n",
    "│  ├─ \"((\" (open=2, close=0)\n",
    "│  │  └─ \"(()\" (open=2, close=1)\n",
    "│  │     └─ \"(())\" ✓\n",
    "│  └─ \"()\" (open=1, close=1)\n",
    "│     └─ \"()(\" (open=2, close=1)\n",
    "│        └─ \"()()\" ✓\n",
    "```"
   ]
  }
 ],
 "metadata": {
  "kernelspec": {
   "display_name": "Python 3",
   "language": "python",
   "name": "python3"
  },
  "language_info": {
   "codemirror_mode": {
    "name": "ipython",
    "version": 3
   },
   "file_extension": ".py",
   "mimetype": "text/x-python",
   "name": "python",
   "nbconvert_exporter": "python",
   "pygments_lexer": "ipython3",
   "version": "3.12.1"
  }
 },
 "nbformat": 4,
 "nbformat_minor": 5
}
