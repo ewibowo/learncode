{
 "cells": [
  {
   "cell_type": "markdown",
   "id": "d2fcde26",
   "metadata": {},
   "source": [
    "Given an integer array nums of unique elements, return all possible subsets (the power set).\n",
    "\n",
    "The solution set must not contain duplicate subsets. Return the solution in any order.\n",
    "\n",
    " \n",
    "\n",
    "Example 1:\n",
    "```\n",
    "Input: nums = [1,2,3]\n",
    "Output: [[],[1],[2],[1,2],[3],[1,3],[2,3],[1,2,3]]\n",
    "```\n",
    "Example 2:\n",
    "```\n",
    "Input: nums = [0]\n",
    "Output: [[],[0]]\n",
    "```\n",
    " \n",
    "\n",
    "Constraints:\n",
    "```\n",
    "1 <= nums.length <= 10\n",
    "-10 <= nums[i] <= 10\n",
    "```\n",
    "All the numbers of nums are unique."
   ]
  },
  {
   "cell_type": "code",
   "execution_count": 2,
   "id": "33648259",
   "metadata": {},
   "outputs": [
    {
     "data": {
      "text/plain": [
       "[[], [1], [1, 2], [1, 2, 3], [1, 3], [2], [2, 3], [3]]"
      ]
     },
     "execution_count": 2,
     "metadata": {},
     "output_type": "execute_result"
    }
   ],
   "source": [
    "def subsets(nums):\n",
    "    result = []\n",
    "    \n",
    "    def backtrack(start, current):\n",
    "        # Add current subset to result\n",
    "        result.append(current[:])  # Make a copy\n",
    "        \n",
    "        # Try adding each remaining element\n",
    "        for i in range(start, len(nums)):\n",
    "            current.append(nums[i])       # Include nums[i]\n",
    "            backtrack(i + 1, current)     # Recurse\n",
    "            current.pop()                 # Backtrack (exclude nums[i])\n",
    "    \n",
    "    backtrack(0, [])\n",
    "    return result\n",
    "\n",
    "\n",
    "subsets([1,2,3])"
   ]
  },
  {
   "cell_type": "markdown",
   "id": "c799a198",
   "metadata": {},
   "source": [
    "## How It Works\n",
    "\n",
    "For `nums = [1,2,3]`:\n",
    "```\n",
    "Start with []\n",
    "├─ Add 1: [1]\n",
    "│  ├─ Add 2: [1,2]\n",
    "│  │  └─ Add 3: [1,2,3]\n",
    "│  └─ Add 3: [1,3]\n",
    "├─ Add 2: [2]\n",
    "│  └─ Add 3: [2,3]\n",
    "└─ Add 3: [3]\n",
    "```"
   ]
  }
 ],
 "metadata": {
  "kernelspec": {
   "display_name": "Python 3",
   "language": "python",
   "name": "python3"
  },
  "language_info": {
   "codemirror_mode": {
    "name": "ipython",
    "version": 3
   },
   "file_extension": ".py",
   "mimetype": "text/x-python",
   "name": "python",
   "nbconvert_exporter": "python",
   "pygments_lexer": "ipython3",
   "version": "3.12.1"
  }
 },
 "nbformat": 4,
 "nbformat_minor": 5
}
