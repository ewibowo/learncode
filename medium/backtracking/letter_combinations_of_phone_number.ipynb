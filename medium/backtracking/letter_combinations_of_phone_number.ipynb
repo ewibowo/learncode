{
 "cells": [
  {
   "cell_type": "markdown",
   "id": "698c80d4",
   "metadata": {},
   "source": [
    "Given a string containing digits from 2-9 inclusive, return all possible letter combinations that the number could represent. Return the answer in any order.\n",
    "\n",
    "A mapping of digits to letters (just like on the telephone buttons) is given below. Note that 1 does not map to any letters."
   ]
  },
  {
   "cell_type": "code",
   "execution_count": 1,
   "id": "d8108e99",
   "metadata": {},
   "outputs": [
    {
     "name": "stdout",
     "output_type": "stream",
     "text": [
      "['ad', 'ae', 'af', 'bd', 'be', 'bf', 'cd', 'ce', 'cf']\n"
     ]
    }
   ],
   "source": [
    "def letterCombinations(digits: str) -> list[str]:\n",
    "    if not digits:\n",
    "        return []\n",
    "    \n",
    "    digit_to_letters = {\n",
    "        \"2\": \"abc\", \"3\": \"def\", \"4\": \"ghi\", \"5\": \"jkl\",\n",
    "        \"6\": \"mno\", \"7\": \"pqrs\", \"8\": \"tuv\", \"9\": \"wxyz\"\n",
    "    }\n",
    "    \n",
    "    result = []\n",
    "    \n",
    "    def backtrack(level: int, current: str):\n",
    "        # Goes DEEP first (DFS)\n",
    "\n",
    "        # 1. Base case\n",
    "        if level == len(digits):\n",
    "            result.append(current)\n",
    "            return\n",
    "        \n",
    "        # 2. Choices\n",
    "        letters = digit_to_letters[digits[level]]\n",
    "        for letter in letters:\n",
    "            # 3. Constraint\n",
    "            backtrack(level + 1, current + letter)  # Recurse immediately (go deep)\n",
    "            # 4. Backtrack\n",
    "            # No-op\n",
    "\n",
    "    backtrack(0, \"\")\n",
    "    return result\n",
    "\n",
    "print(letterCombinations(\"23\"))"
   ]
  }
 ],
 "metadata": {
  "kernelspec": {
   "display_name": "Python 3",
   "language": "python",
   "name": "python3"
  },
  "language_info": {
   "codemirror_mode": {
    "name": "ipython",
    "version": 3
   },
   "file_extension": ".py",
   "mimetype": "text/x-python",
   "name": "python",
   "nbconvert_exporter": "python",
   "pygments_lexer": "ipython3",
   "version": "3.12.1"
  }
 },
 "nbformat": 4,
 "nbformat_minor": 5
}
