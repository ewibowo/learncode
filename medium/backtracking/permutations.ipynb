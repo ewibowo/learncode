{
 "cells": [
  {
   "cell_type": "markdown",
   "id": "d29b2972",
   "metadata": {},
   "source": [
    "Given an array nums of distinct integers, return all the possible permutations. You can return the answer in any order.\n",
    "\n",
    " \n",
    "\n",
    "Example 1:\n",
    "```\n",
    "Input: nums = [1,2,3]\n",
    "Output: [[1,2,3],[1,3,2],[2,1,3],[2,3,1],[3,1,2],[3,2,1]]\n",
    "```\n",
    "Example 2:\n",
    "```\n",
    "Input: nums = [0,1]\n",
    "Output: [[0,1],[1,0]]\n",
    "```\n",
    "Example 3:\n",
    "```\n",
    "Input: nums = [1]\n",
    "Output: [[1]]\n",
    "```\n",
    " \n",
    "\n",
    "Constraints:\n",
    "```\n",
    "1 <= nums.length <= 6\n",
    "-10 <= nums[i] <= 10\n",
    "```\n",
    "All the integers of nums are unique."
   ]
  },
  {
   "cell_type": "code",
   "execution_count": 2,
   "id": "02916316",
   "metadata": {},
   "outputs": [
    {
     "data": {
      "text/plain": [
       "[[1, 2, 3], [1, 3, 2], [2, 1, 3], [2, 3, 1], [3, 1, 2], [3, 2, 1]]"
      ]
     },
     "execution_count": 2,
     "metadata": {},
     "output_type": "execute_result"
    }
   ],
   "source": [
    "def permute(nums):\n",
    "    result = []\n",
    "    \n",
    "    def backtrack(current_permutation):\n",
    "        # Base case: if permutation is complete, add it to result\n",
    "        if len(current_permutation) == len(nums):\n",
    "            result.append(current_permutation[:])  # Make a copy\n",
    "            return\n",
    "        \n",
    "        # Try each number that hasn't been used yet\n",
    "        for num in nums:\n",
    "            if num not in current_permutation:\n",
    "                # Choose\n",
    "                current_permutation.append(num)\n",
    "                # Explore\n",
    "                backtrack(current_permutation)\n",
    "                # Unchoose (backtrack)\n",
    "                current_permutation.pop()\n",
    "    \n",
    "    backtrack([])\n",
    "    return result\n",
    "\n",
    "permute([1,2,3])"
   ]
  }
 ],
 "metadata": {
  "kernelspec": {
   "display_name": "Python 3",
   "language": "python",
   "name": "python3"
  },
  "language_info": {
   "codemirror_mode": {
    "name": "ipython",
    "version": 3
   },
   "file_extension": ".py",
   "mimetype": "text/x-python",
   "name": "python",
   "nbconvert_exporter": "python",
   "pygments_lexer": "ipython3",
   "version": "3.12.1"
  }
 },
 "nbformat": 4,
 "nbformat_minor": 5
}
