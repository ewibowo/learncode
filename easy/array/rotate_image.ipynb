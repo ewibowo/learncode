{
 "cells": [
  {
   "cell_type": "markdown",
   "id": "b321a2f9",
   "metadata": {},
   "source": [
    "You are given an n x n 2D matrix representing an image, rotate the image by 90 degrees (clockwise).\n",
    "\n",
    "You have to rotate the image in-place, which means you have to modify the input 2D matrix directly. DO NOT allocate another 2D matrix and do the rotation.\n",
    "\n",
    " \n",
    "\n",
    "Example 1:\n",
    "\n",
    "```\n",
    "Input: matrix = [[1,2,3],[4,5,6],[7,8,9]]\n",
    "Output: [[7,4,1],[8,5,2],[9,6,3]]\n",
    "```"
   ]
  },
  {
   "cell_type": "code",
   "execution_count": 4,
   "id": "81c1b91a",
   "metadata": {},
   "outputs": [
    {
     "name": "stdout",
     "output_type": "stream",
     "text": [
      "[[7, 4, 1], [8, 5, 2], [9, 6, 3]]\n"
     ]
    }
   ],
   "source": [
    "def rotate(matrix):\n",
    "    \"\"\"\n",
    "    Rotate the matrix 90 degrees clockwise in-place.\n",
    "    :type matrix: List[List[int]]\n",
    "    :rtype: None (modifies matrix in-place)\n",
    "    \"\"\"\n",
    "    n = len(matrix)\n",
    "    \n",
    "    # Step 1: Transpose the matrix (swap matrix[i][j] with matrix[j][i])\n",
    "    for i in range(n):\n",
    "        for j in range(i + 1, n):  # Only iterate upper triangle to avoid double-swapping\n",
    "            matrix[i][j], matrix[j][i] = matrix[j][i], matrix[i][j]\n",
    "    \n",
    "    # Step 2: Reverse each row\n",
    "    for i in range(n):\n",
    "        matrix[i].reverse()\n",
    "\n",
    "matrix = [[1,2,3],[4,5,6],[7,8,9]]\n",
    "rotate(matrix)\n",
    "print(matrix)"
   ]
  }
 ],
 "metadata": {
  "kernelspec": {
   "display_name": "Python 3",
   "language": "python",
   "name": "python3"
  },
  "language_info": {
   "codemirror_mode": {
    "name": "ipython",
    "version": 3
   },
   "file_extension": ".py",
   "mimetype": "text/x-python",
   "name": "python",
   "nbconvert_exporter": "python",
   "pygments_lexer": "ipython3",
   "version": "3.12.1"
  }
 },
 "nbformat": 4,
 "nbformat_minor": 5
}
