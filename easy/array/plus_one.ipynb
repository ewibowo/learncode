{
 "cells": [
  {
   "cell_type": "markdown",
   "id": "7384263c",
   "metadata": {},
   "source": [
    "You are given a large integer represented as an integer array digits, where each digits[i] is the ith digit of the integer. The digits are ordered from most significant to least significant in left-to-right order. The large integer does not contain any leading 0's.\n",
    "\n",
    "Increment the large integer by one and return the resulting array of digits.\n",
    "\n",
    " \n",
    "\n",
    "Example 1:\n",
    "```\n",
    "Input: digits = [1,2,3]\n",
    "Output: [1,2,4]\n",
    "```\n",
    "Explanation: The array represents the integer 123.\n",
    "Incrementing by one gives 123 + 1 = 124.\n",
    "Thus, the result should be [1,2,4].\n",
    "Example 2:\n",
    "```\n",
    "Input: digits = [4,3,2,1]\n",
    "Output: [4,3,2,2]\n",
    "```\n",
    "Explanation: The array represents the integer 4321.\n",
    "Incrementing by one gives 4321 + 1 = 4322.\n",
    "Thus, the result should be [4,3,2,2].\n",
    "Example 3:\n",
    "```\n",
    "Input: digits = [9]\n",
    "Output: [1,0]\n",
    "```\n",
    "Explanation: The array represents the integer 9.\n",
    "Incrementing by one gives 9 + 1 = 10.\n",
    "Thus, the result should be [1,0].\n",
    " \n",
    "\n",
    "Constraints:\n",
    "```\n",
    "1 <= digits.length <= 100\n",
    "0 <= digits[i] <= 9\n",
    "digits does not contain any leading 0's.\n",
    "```"
   ]
  },
  {
   "cell_type": "code",
   "execution_count": 1,
   "id": "a745e5c7",
   "metadata": {},
   "outputs": [
    {
     "name": "stdout",
     "output_type": "stream",
     "text": [
      "[1, 0]\n"
     ]
    }
   ],
   "source": [
    "def plusOne(digits):\n",
    "    n = len(digits)\n",
    "    \n",
    "    # Traverse from right to left\n",
    "    for i in range(n - 1, -1, -1):\n",
    "        # If current digit is less than 9, just increment and return\n",
    "        if digits[i] < 9:\n",
    "            digits[i] += 1\n",
    "            return digits\n",
    "        \n",
    "        # If current digit is 9, it becomes 0 and we continue (carry over)\n",
    "        digits[i] = 0\n",
    "    \n",
    "    # If we're here, all digits were 9 (e.g., 999 -> 1000)\n",
    "    # We need to prepend 1\n",
    "    return [1] + digits\n",
    "\n",
    "digits = [9]\n",
    "print(plusOne(digits))"
   ]
  }
 ],
 "metadata": {
  "kernelspec": {
   "display_name": "Python 3",
   "language": "python",
   "name": "python3"
  },
  "language_info": {
   "codemirror_mode": {
    "name": "ipython",
    "version": 3
   },
   "file_extension": ".py",
   "mimetype": "text/x-python",
   "name": "python",
   "nbconvert_exporter": "python",
   "pygments_lexer": "ipython3",
   "version": "3.12.1"
  }
 },
 "nbformat": 4,
 "nbformat_minor": 5
}
