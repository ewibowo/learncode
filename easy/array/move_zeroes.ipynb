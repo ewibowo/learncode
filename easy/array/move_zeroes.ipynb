{
 "cells": [
  {
   "cell_type": "markdown",
   "id": "4b833ad1",
   "metadata": {},
   "source": [
    "Given an integer array nums, move all 0's to the end of it while maintaining the relative order of the non-zero elements.\n",
    "\n",
    "Note that you must do this in-place without making a copy of the array.\n",
    "\n",
    " \n",
    "\n",
    "Example 1:\n",
    "```\n",
    "Input: nums = [0,1,0,3,12]\n",
    "Output: [1,3,12,0,0]\n",
    "```\n",
    "Example 2:\n",
    "```\n",
    "Input: nums = [0]\n",
    "Output: [0]\n",
    "```\n",
    "\n",
    "Constraints:\n",
    "```\n",
    "1 <= nums.length <= 104\n",
    "-231 <= nums[i] <= 231 - 1\n",
    "```\n",
    " \n",
    "\n",
    "Follow up: Could you minimize the total number of operations done?"
   ]
  },
  {
   "cell_type": "code",
   "execution_count": 4,
   "id": "0f3f0f27",
   "metadata": {},
   "outputs": [
    {
     "name": "stdout",
     "output_type": "stream",
     "text": [
      "[1, 3, 12, 0, 0]\n"
     ]
    }
   ],
   "source": [
    "def moveZeroes(nums):\n",
    "    \"\"\"\n",
    "    Move all zeros to the end while maintaining relative order of non-zeros.\n",
    "    \n",
    "    Time Complexity: O(n) - single pass through the array\n",
    "    Space Complexity: O(1) - in-place modification\n",
    "    \"\"\"\n",
    "    left = 0  # Position for next non-zero element\n",
    "    \n",
    "    # Move all non-zero elements to the front\n",
    "    for right in range(len(nums)):\n",
    "        if nums[right] != 0:\n",
    "            # Swap non-zero element with element at left pointer\n",
    "            nums[left], nums[right] = nums[right], nums[left]\n",
    "            left += 1\n",
    "    \n",
    "    return nums  # Return for convenience (modifies in-place)\n",
    "\n",
    "nums = [0,1,0,3,12]\n",
    "print(moveZeroes(nums))"
   ]
  },
  {
   "cell_type": "markdown",
   "id": "4eaf00aa",
   "metadata": {},
   "source": [
    "Approach\n",
    "The key insight is to use two pointers:\n",
    "\n",
    "* One pointer (left) tracks the position where the next non-zero element should be placed\n",
    "* Another pointer (right) scans through the array to find non-zero elements\n",
    "\n",
    "When we find a non-zero element, we swap it with the element at the left pointer position, then increment left."
   ]
  }
 ],
 "metadata": {
  "kernelspec": {
   "display_name": "Python 3",
   "language": "python",
   "name": "python3"
  },
  "language_info": {
   "codemirror_mode": {
    "name": "ipython",
    "version": 3
   },
   "file_extension": ".py",
   "mimetype": "text/x-python",
   "name": "python",
   "nbconvert_exporter": "python",
   "pygments_lexer": "ipython3",
   "version": "3.12.1"
  }
 },
 "nbformat": 4,
 "nbformat_minor": 5
}
