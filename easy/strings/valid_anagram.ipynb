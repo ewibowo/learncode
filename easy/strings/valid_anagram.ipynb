{
 "cells": [
  {
   "cell_type": "markdown",
   "id": "3686a64c",
   "metadata": {},
   "source": [
    "Valid Anagram\n",
    "\n",
    "Solution\n",
    "Given two strings s and t, return true if t is an anagram of s, and false otherwise.\n",
    "\n",
    " \n",
    "\n",
    "Example 1:\n",
    "```\n",
    "Input: s = \"anagram\", t = \"nagaram\"\n",
    "Output: true\n",
    "```\n",
    "\n",
    "Example 2:\n",
    "```\n",
    "Input: s = \"rat\", t = \"car\"\n",
    "Output: false\n",
    "```\n",
    "\n",
    "Constraints:\n",
    "```\n",
    "1 <= s.length, t.length <= 5 * 104\n",
    "s and t consist of lowercase English letters.\n",
    "```\n",
    " \n",
    "\n",
    "Follow up: What if the inputs contain Unicode characters? How would you adapt your solution to such a case?"
   ]
  },
  {
   "cell_type": "code",
   "execution_count": 1,
   "id": "996e6e4e",
   "metadata": {},
   "outputs": [
    {
     "name": "stdout",
     "output_type": "stream",
     "text": [
      "True\n"
     ]
    }
   ],
   "source": [
    "def isAnagram(s: str, t: str) -> bool:\n",
    "    if len(s) != len(t):\n",
    "        return False\n",
    "    return sorted(s) == sorted(t)\n",
    "\n",
    "s = \"anagram\"\n",
    "t = \"nagaram\"\n",
    "\n",
    "print(isAnagram(s, t))"
   ]
  }
 ],
 "metadata": {
  "kernelspec": {
   "display_name": "Python 3",
   "language": "python",
   "name": "python3"
  },
  "language_info": {
   "codemirror_mode": {
    "name": "ipython",
    "version": 3
   },
   "file_extension": ".py",
   "mimetype": "text/x-python",
   "name": "python",
   "nbconvert_exporter": "python",
   "pygments_lexer": "ipython3",
   "version": "3.12.1"
  }
 },
 "nbformat": 4,
 "nbformat_minor": 5
}
