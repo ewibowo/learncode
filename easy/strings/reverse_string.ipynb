{
 "cells": [
  {
   "cell_type": "markdown",
   "id": "6b71f940",
   "metadata": {},
   "source": [
    "Reverse String\n",
    "\n",
    "Solution\n",
    "Write a function that reverses a string. The input string is given as an array of characters s.\n",
    "\n",
    "You must do this by modifying the input array in-place with O(1) extra memory.\n",
    "\n",
    " \n",
    "\n",
    "Example 1:\n",
    "```\n",
    "Input: s = [\"h\",\"e\",\"l\",\"l\",\"o\"]\n",
    "Output: [\"o\",\"l\",\"l\",\"e\",\"h\"]\n",
    "```\n",
    "Example 2:\n",
    "```\n",
    "Input: s = [\"H\",\"a\",\"n\",\"n\",\"a\",\"h\"]\n",
    "Output: [\"h\",\"a\",\"n\",\"n\",\"a\",\"H\"]\n",
    "```\n",
    "\n",
    "Constraints:\n",
    "```\n",
    "1 <= s.length <= 105\n",
    "s[i] is a printable ascii character.\n",
    "```"
   ]
  },
  {
   "cell_type": "code",
   "execution_count": 3,
   "id": "0a2c28fd",
   "metadata": {},
   "outputs": [
    {
     "name": "stdout",
     "output_type": "stream",
     "text": [
      "Before: ['h', 'e', 'l', 'l', 'o']\n",
      "After:  ['o', 'l', 'l', 'e', 'h']\n",
      "\n",
      "Before: ['H', 'a', 'n', 'n', 'a', 'h']\n",
      "After:  ['h', 'a', 'n', 'n', 'a', 'H']\n"
     ]
    }
   ],
   "source": [
    "def reverse_string(s):\n",
    "    \"\"\"\n",
    "    Reverses a string array in-place.\n",
    "    \n",
    "    Args:\n",
    "        s: List of characters to reverse\n",
    "    \n",
    "    Returns:\n",
    "        None (modifies s in-place)\n",
    "    \"\"\"\n",
    "    left = 0\n",
    "    right = len(s) - 1\n",
    "    \n",
    "    while left < right:\n",
    "        # Swap characters\n",
    "        s[left], s[right] = s[right], s[left]\n",
    "        # Move pointers toward center\n",
    "        left += 1\n",
    "        right -= 1\n",
    "\n",
    "\n",
    "# Test with examples\n",
    "\n",
    "# Example 1\n",
    "s1 = [\"h\", \"e\", \"l\", \"l\", \"o\"]\n",
    "print(f\"Before: {s1}\")\n",
    "reverse_string(s1)\n",
    "print(f\"After:  {s1}\")\n",
    "print()\n",
    "\n",
    "# Example 2\n",
    "s2 = [\"H\", \"a\", \"n\", \"n\", \"a\", \"h\"]\n",
    "print(f\"Before: {s2}\")\n",
    "reverse_string(s2)\n",
    "print(f\"After:  {s2}\")\n",
    "\n",
    "\n"
   ]
  }
 ],
 "metadata": {
  "kernelspec": {
   "display_name": "Python 3",
   "language": "python",
   "name": "python3"
  },
  "language_info": {
   "codemirror_mode": {
    "name": "ipython",
    "version": 3
   },
   "file_extension": ".py",
   "mimetype": "text/x-python",
   "name": "python",
   "nbconvert_exporter": "python",
   "pygments_lexer": "ipython3",
   "version": "3.12.1"
  }
 },
 "nbformat": 4,
 "nbformat_minor": 5
}
