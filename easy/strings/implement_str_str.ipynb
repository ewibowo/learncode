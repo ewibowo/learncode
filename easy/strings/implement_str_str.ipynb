{
 "cells": [
  {
   "cell_type": "markdown",
   "id": "3b941ede",
   "metadata": {},
   "source": [
    "Implement strStr()\n",
    "\n",
    "Solution\n",
    "Given two strings needle and haystack, return the index of the first occurrence of needle in haystack, or -1 if needle is not part of haystack.\n",
    "\n",
    " \n",
    "\n",
    "Example 1:\n",
    "```\n",
    "Input: haystack = \"sadbutsad\", needle = \"sad\"\n",
    "Output: 0\n",
    "```\n",
    "Explanation: \"sad\" occurs at index 0 and 6.\n",
    "The first occurrence is at index 0, so we return 0.\n",
    "Example 2:\n",
    "```\n",
    "Input: haystack = \"leetcode\", needle = \"leeto\"\n",
    "Output: -1\n",
    "```\n",
    "Explanation: \"leeto\" did not occur in \"leetcode\", so we return -1.\n",
    " \n",
    "\n",
    "Constraints:\n",
    "```\n",
    "1 <= haystack.length, needle.length <= 104\n",
    "haystack and needle consist of only lowercase English characters.\n",
    "```"
   ]
  },
  {
   "cell_type": "code",
   "execution_count": 1,
   "id": "57c55b54",
   "metadata": {},
   "outputs": [
    {
     "name": "stdout",
     "output_type": "stream",
     "text": [
      "0\n"
     ]
    }
   ],
   "source": [
    "def strStr(haystack: str, needle: str) -> int:\n",
    "    n, m = len(haystack), len(needle)\n",
    "    \n",
    "    # Edge case: if needle is longer than haystack\n",
    "    if m > n:\n",
    "        return -1\n",
    "    \n",
    "    # Check each possible starting position\n",
    "    for i in range(n - m + 1):\n",
    "        # Check if substring matches\n",
    "        if haystack[i:i + m] == needle:\n",
    "            return i\n",
    "    \n",
    "    return -1\n",
    "\n",
    "haystack = \"sadbutsad\"\n",
    "needle = \"sad\"\n",
    "\n",
    "print(strStr(haystack, needle))"
   ]
  }
 ],
 "metadata": {
  "kernelspec": {
   "display_name": "Python 3",
   "language": "python",
   "name": "python3"
  },
  "language_info": {
   "codemirror_mode": {
    "name": "ipython",
    "version": 3
   },
   "file_extension": ".py",
   "mimetype": "text/x-python",
   "name": "python",
   "nbconvert_exporter": "python",
   "pygments_lexer": "ipython3",
   "version": "3.12.1"
  }
 },
 "nbformat": 4,
 "nbformat_minor": 5
}
