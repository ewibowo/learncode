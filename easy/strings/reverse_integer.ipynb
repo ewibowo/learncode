{
 "cells": [
  {
   "cell_type": "markdown",
   "id": "647ecaff",
   "metadata": {},
   "source": [
    "Given a signed 32-bit integer x, return x with its digits reversed. If reversing x causes the value to go outside the signed 32-bit integer range [-231, 231 - 1], then return 0.\n",
    "\n",
    "Assume the environment does not allow you to store 64-bit integers (signed or unsigned).\n",
    "\n",
    " \n",
    "\n",
    "Example 1:\n",
    "```\n",
    "Input: x = 123\n",
    "Output: 321\n",
    "```\n",
    "Example 2:\n",
    "```\n",
    "Input: x = -123\n",
    "Output: -321\n",
    "```\n",
    "Example 3:\n",
    "```\n",
    "Input: x = 120\n",
    "Output: 21\n",
    "```\n",
    "\n",
    "Constraints:\n",
    "```\n",
    "-231 <= x <= 231 - 1\n",
    "```"
   ]
  },
  {
   "cell_type": "code",
   "execution_count": 1,
   "id": "9ef61b71",
   "metadata": {},
   "outputs": [
    {
     "name": "stdout",
     "output_type": "stream",
     "text": [
      "321\n"
     ]
    }
   ],
   "source": [
    "def reverse(x: int) -> int:\n",
    "    INT_MAX = 2**31 - 1  # 2147483647\n",
    "    INT_MIN = -2**31      # -2147483648\n",
    "    \n",
    "    reversed_num = 0\n",
    "    sign = 1 if x > 0 else -1\n",
    "    x = abs(x)\n",
    "    \n",
    "    while x != 0:\n",
    "        digit = x % 10\n",
    "        x //= 10\n",
    "        \n",
    "        # Check for overflow before updating reversed_num\n",
    "        # For positive numbers\n",
    "        if sign == 1:\n",
    "            if reversed_num > INT_MAX // 10:\n",
    "                return 0\n",
    "            if reversed_num == INT_MAX // 10 and digit > 7:\n",
    "                return 0\n",
    "        # For negative numbers\n",
    "        else:\n",
    "            if reversed_num > -(INT_MIN // 10):\n",
    "                return 0\n",
    "            if reversed_num == -(INT_MIN // 10) and digit > 8:\n",
    "                return 0\n",
    "        \n",
    "        reversed_num = reversed_num * 10 + digit\n",
    "    \n",
    "    return sign * reversed_num\n",
    "\n",
    "x = 123\n",
    "print(reverse(x))"
   ]
  }
 ],
 "metadata": {
  "kernelspec": {
   "display_name": "Python 3",
   "language": "python",
   "name": "python3"
  },
  "language_info": {
   "codemirror_mode": {
    "name": "ipython",
    "version": 3
   },
   "file_extension": ".py",
   "mimetype": "text/x-python",
   "name": "python",
   "nbconvert_exporter": "python",
   "pygments_lexer": "ipython3",
   "version": "3.12.1"
  }
 },
 "nbformat": 4,
 "nbformat_minor": 5
}
