{
 "cells": [
  {
   "cell_type": "markdown",
   "id": "d5989ec9",
   "metadata": {},
   "source": [
    "Given a non-empty array of integers nums, every element appears twice except for one. Find that single one.\n",
    "\n",
    "You must implement a solution with a linear runtime complexity and use only constant extra space.\n",
    "\n",
    " \n",
    "\n",
    "Example 1:\n",
    "```\n",
    "Input: nums = [2,2,1]\n",
    "Output: 1\n",
    "```\n",
    "\n",
    "Example 2:\n",
    "```\n",
    "Input: nums = [4,1,2,1,2]\n",
    "Output: 4\n",
    "```\n",
    "Example 3:\n",
    "```\n",
    "Input: nums = [1]\n",
    "Output: 1\n",
    "```\n",
    " \n",
    "\n",
    "Constraints:\n",
    "```\n",
    "1 <= nums.length <= 3 * 104\n",
    "-3 * 104 <= nums[i] <= 3 * 104\n",
    "```\n",
    "Each element in the array appears twice except for one element which appears only once."
   ]
  },
  {
   "cell_type": "code",
   "execution_count": 1,
   "id": "e15d7644",
   "metadata": {},
   "outputs": [
    {
     "name": "stdout",
     "output_type": "stream",
     "text": [
      "4\n"
     ]
    }
   ],
   "source": [
    "def singleNumber(nums):\n",
    "    result = 0\n",
    "    for num in nums:\n",
    "        result ^= num\n",
    "    return result\n",
    "\n",
    "nums = [4,1,2,1,2]\n",
    "print(singleNumber(nums))"
   ]
  }
 ],
 "metadata": {
  "kernelspec": {
   "display_name": "Python 3",
   "language": "python",
   "name": "python3"
  },
  "language_info": {
   "codemirror_mode": {
    "name": "ipython",
    "version": 3
   },
   "file_extension": ".py",
   "mimetype": "text/x-python",
   "name": "python",
   "nbconvert_exporter": "python",
   "pygments_lexer": "ipython3",
   "version": "3.12.1"
  }
 },
 "nbformat": 4,
 "nbformat_minor": 5
}
