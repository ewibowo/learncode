{
 "cells": [
  {
   "cell_type": "markdown",
   "id": "56e9a945",
   "metadata": {},
   "source": [
    "Given an integer array nums, return true if any value appears at least twice in the array, and return false if every element is distinct.\n",
    "\n",
    " \n",
    "Example 1:\n",
    "```\n",
    "Input: nums = [1,2,3,1]\n",
    "Output: true\n",
    "```\n",
    "Explanation:\n",
    "```\n",
    "The element 1 occurs at the indices 0 and 3.\n",
    "```\n",
    "\n",
    "Example 2:\n",
    "```\n",
    "Input: nums = [1,2,3,4]\n",
    "Output: false\n",
    "```\n",
    "Explanation:\n",
    "```\n",
    "All elements are distinct.\n",
    "```\n",
    "Example 3:\n",
    "```\n",
    "Input: nums = [1,1,1,3,3,4,3,2,4,2]\n",
    "Output: true\n",
    "```\n",
    " \n",
    "Constraints:\n",
    "```\n",
    "1 <= nums.length <= 105\n",
    "-109 <= nums[i] <= 109\n",
    "```"
   ]
  },
  {
   "cell_type": "code",
   "execution_count": 1,
   "id": "9c9bfcbc",
   "metadata": {},
   "outputs": [
    {
     "name": "stdout",
     "output_type": "stream",
     "text": [
      "True\n"
     ]
    }
   ],
   "source": [
    "def containsDuplicate(nums):\n",
    "    seen = set()\n",
    "    for num in nums:\n",
    "        if num in seen:\n",
    "            return True\n",
    "        seen.add(num)\n",
    "    return False\n",
    "\n",
    "nums = [1, 2, 3, 1]\n",
    "print(containsDuplicate(nums))"
   ]
  }
 ],
 "metadata": {
  "kernelspec": {
   "display_name": "Python 3",
   "language": "python",
   "name": "python3"
  },
  "language_info": {
   "codemirror_mode": {
    "name": "ipython",
    "version": 3
   },
   "file_extension": ".py",
   "mimetype": "text/x-python",
   "name": "python",
   "nbconvert_exporter": "python",
   "pygments_lexer": "ipython3",
   "version": "3.12.1"
  }
 },
 "nbformat": 4,
 "nbformat_minor": 5
}
