{
 "cells": [
  {
   "cell_type": "markdown",
   "id": "9093ebbf",
   "metadata": {},
   "source": [
    "Given two integer arrays nums1 and nums2, return an array of their intersection. Each element in the result must appear as many times as it shows in both arrays and you may return the result in any order.\n",
    "\n",
    " \n",
    "\n",
    "Example 1:\n",
    "```\n",
    "Input: nums1 = [1,2,2,1], nums2 = [2,2]\n",
    "Output: [2,2]\n",
    "```\n",
    "Example 2:\n",
    "```\n",
    "Input: nums1 = [4,9,5], nums2 = [9,4,9,8,4]\n",
    "Output: [4,9]\n",
    "```\n",
    "Explanation: [9,4] is also accepted.\n",
    "\n",
    "\n",
    "Constraints:\n",
    "```\n",
    "1 <= nums1.length, nums2.length <= 1000\n",
    "0 <= nums1[i], nums2[i] <= 1000\n",
    "```\n",
    " \n",
    "\n",
    "Follow up:\n",
    "\n",
    "* What if the given array is already sorted? How would you optimize your algorithm?\n",
    "* What if nums1's size is small compared to nums2's size? Which algorithm is better?\n",
    "* What if elements of nums2 are stored on disk, and the memory is limited such that you cannot load all elements into the memory at once?"
   ]
  },
  {
   "cell_type": "code",
   "execution_count": 1,
   "id": "94633cab",
   "metadata": {},
   "outputs": [
    {
     "name": "stdout",
     "output_type": "stream",
     "text": [
      "[9, 4]\n"
     ]
    }
   ],
   "source": [
    "def intersect(nums1, nums2):\n",
    "    from collections import Counter\n",
    "    \n",
    "    # Count frequencies in both arrays\n",
    "    count1 = Counter(nums1)\n",
    "    result = []\n",
    "    \n",
    "    # For each element in nums2, check if it exists in count1\n",
    "    for num in nums2:\n",
    "        if count1[num] > 0:\n",
    "            result.append(num)\n",
    "            count1[num] -= 1\n",
    "    \n",
    "    return result\n",
    "\n",
    "nums1 = [4,9,5]\n",
    "nums2 = [9,4,9,8,4]\n",
    "\n",
    "print(intersect(nums1, nums2))"
   ]
  },
  {
   "cell_type": "markdown",
   "id": "a6605847",
   "metadata": {},
   "source": [
    "Time Complexity: O(n + m) where n and m are the lengths of the arrays\n",
    "\n",
    "Space Complexity: O(min(n, m)) for the hash map"
   ]
  }
 ],
 "metadata": {
  "kernelspec": {
   "display_name": "Python 3",
   "language": "python",
   "name": "python3"
  },
  "language_info": {
   "codemirror_mode": {
    "name": "ipython",
    "version": 3
   },
   "file_extension": ".py",
   "mimetype": "text/x-python",
   "name": "python",
   "nbconvert_exporter": "python",
   "pygments_lexer": "ipython3",
   "version": "3.12.1"
  }
 },
 "nbformat": 4,
 "nbformat_minor": 5
}
